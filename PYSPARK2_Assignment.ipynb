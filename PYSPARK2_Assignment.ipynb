{
  "nbformat": 4,
  "nbformat_minor": 0,
  "metadata": {
    "colab": {
      "name": "Sitaram_Deevi_PYSPARK2_Mandatory_Project.ipynb",
      "provenance": [],
      "collapsed_sections": []
    },
    "kernelspec": {
      "name": "python3",
      "display_name": "Python 3"
    },
    "language_info": {
      "name": "python"
    }
  },
  "cells": [
    {
      "cell_type": "markdown",
      "source": [
        "# PYSPARK-2_Mandatory_Project"
      ],
      "metadata": {
        "id": "hXeCu6exoHbN"
      }
    },
    {
      "cell_type": "markdown",
      "source": [
        "# Introduction :"
      ],
      "metadata": {
        "id": "lss2hXgX95eE"
      }
    },
    {
      "cell_type": "markdown",
      "source": [
        "The Bellow data set is all about the details of Airlines the detailed explanation is as follows.\n",
        "\n",
        "-> The columns like Year,Month,Day,Week says that on which date and the days that these all data Belongs to.\n",
        "\n",
        "-> The columns like CarrierDelay,WeatherDelay,NAS_Delay,SecurityDelay,LateAircraftDelay says that on which reason that the flights were Delayed.\n",
        "\n",
        "-> DepTime : Total Depature time.\n",
        "\n",
        "-> CRSDepTime : If it is operated 15 minutes before the sheduled time.\n",
        "\n",
        "-> ArrTime : Total Arrival time.\n",
        "\n",
        "-> CRSArrTime : If it is operated 15 minutes later the sheduled time.\n",
        "\n",
        "->  UniqueCarrier : Flights that each airline made.\n",
        "\n",
        "-> FlightNum : Number of the particular flight.\n",
        "\n",
        "-> ActualElapsedTime : The total time tha SLA has taken untill this time,minus any pause duration.\n",
        "\n",
        "-> CRSElapsedTime : Difference in minutes between sheduled and actual arrival time.\n",
        "\n",
        "-> ArrDelay : Arrival Delay of a flight.\n",
        "\n",
        "-> DepDelay : Depature Delay of a flight.\n",
        "\n",
        "-> Origin : For which origin that flight belongs to.\n",
        "\n",
        "-> Distance : Total diatance.\n",
        "\n",
        "-> Cancelled : Total Number of flights were cancled.\n",
        "\n",
        "-> CancellationCode : what is the code of that cancelled flights.\n",
        "\n",
        "-> Diverted : How many number of flights were Diverted."
      ],
      "metadata": {
        "id": "I0VEgvry9-wg"
      }
    },
    {
      "cell_type": "code",
      "execution_count": 1,
      "metadata": {
        "colab": {
          "base_uri": "https://localhost:8080/"
        },
        "id": "YXSsi7-bcjIH",
        "outputId": "e92af2fd-4d6f-44d2-d2f2-2d70cd4036ba"
      },
      "outputs": [
        {
          "output_type": "stream",
          "name": "stdout",
          "text": [
            "Looking in indexes: https://pypi.org/simple, https://us-python.pkg.dev/colab-wheels/public/simple/\n",
            "Collecting pyspark\n",
            "  Downloading pyspark-3.3.0.tar.gz (281.3 MB)\n",
            "\u001b[K     |████████████████████████████████| 281.3 MB 46 kB/s \n",
            "\u001b[?25hCollecting py4j==0.10.9.5\n",
            "  Downloading py4j-0.10.9.5-py2.py3-none-any.whl (199 kB)\n",
            "\u001b[K     |████████████████████████████████| 199 kB 52.7 MB/s \n",
            "\u001b[?25hBuilding wheels for collected packages: pyspark\n",
            "  Building wheel for pyspark (setup.py) ... \u001b[?25l\u001b[?25hdone\n",
            "  Created wheel for pyspark: filename=pyspark-3.3.0-py2.py3-none-any.whl size=281764026 sha256=682178f3f27c01c1b0f6dfac60289bca243f51bcc0e3b204007f175b8af110d4\n",
            "  Stored in directory: /root/.cache/pip/wheels/7a/8e/1b/f73a52650d2e5f337708d9f6a1750d451a7349a867f928b885\n",
            "Successfully built pyspark\n",
            "Installing collected packages: py4j, pyspark\n",
            "Successfully installed py4j-0.10.9.5 pyspark-3.3.0\n"
          ]
        }
      ],
      "source": [
        "pip install pyspark # installing pyspark"
      ]
    },
    {
      "cell_type": "code",
      "source": [
        "#Initializing PySpark and importing the other required libraries\n",
        "from pyspark import SparkContext, SparkConf\n",
        "from pyspark.sql import SparkSession\n",
        "from pyspark.sql import SQLContext\n",
        "import pyspark.sql.functions as f\n",
        "\n",
        "#Spark Config\n",
        "conf = SparkConf().setAppName(\"sample_app\")\n",
        "sc = SparkContext(conf=conf)\n",
        "spark = SparkSession.builder.appName('Test').getOrCreate()\n",
        "sqlContext = SQLContext(sc)"
      ],
      "metadata": {
        "colab": {
          "base_uri": "https://localhost:8080/"
        },
        "id": "9vhYZitPdy3J",
        "outputId": "1ede18a8-96ef-4be5-ff78-b890b0149753"
      },
      "execution_count": 2,
      "outputs": [
        {
          "output_type": "stream",
          "name": "stderr",
          "text": [
            "/usr/local/lib/python3.7/dist-packages/pyspark/sql/context.py:114: FutureWarning: Deprecated in 3.0.0. Use SparkSession.builder.getOrCreate() instead.\n",
            "  FutureWarning,\n"
          ]
        }
      ]
    },
    {
      "cell_type": "code",
      "source": [
        "# reading the data set of csv file to a Data Frame\n",
        "airline_data = spark.read.format(\"csv\").option(\"header\",\"true\").option(\"inferschema\",\"true\").load(\"/content/Airline_data.csv\")\n",
        "airline_data.show() # calling the Action"
      ],
      "metadata": {
        "colab": {
          "base_uri": "https://localhost:8080/"
        },
        "id": "bbmCuwd2eYyU",
        "outputId": "7fe8c0d2-c51b-4f96-9183-f2d0fbff1d2d"
      },
      "execution_count": 25,
      "outputs": [
        {
          "output_type": "stream",
          "name": "stdout",
          "text": [
            "+----+-----+----------+---------+-------+----------+-------+----------+-------------+---------+-------+-----------------+--------------+-------+--------+--------+------+----+--------+------+-------+---------+----------------+--------+------------+------------+--------+-------------+-----------------+\n",
            "|Year|Month|DayofMonth|DayOfWeek|DepTime|CRSDepTime|ArrTime|CRSArrTime|UniqueCarrier|FlightNum|TailNum|ActualElapsedTime|CRSElapsedTime|AirTime|ArrDelay|DepDelay|Origin|Dest|Distance|TaxiIn|TaxiOut|Cancelled|CancellationCode|Diverted|CarrierDelay|WeatherDelay|NASDelay|SecurityDelay|LateAircraftDelay|\n",
            "+----+-----+----------+---------+-------+----------+-------+----------+-------------+---------+-------+-----------------+--------------+-------+--------+--------+------+----+--------+------+-------+---------+----------------+--------+------------+------------+--------+-------------+-----------------+\n",
            "|1989|    1|        23|        1|   1419|      1230|   1742|      1552|           UA|      183|     NA|              323|           322|     NA|     110|     109|   SFO| HNL|    2398|    NA|     NA|        0|              NA|       0|          NA|          NA|      NA|           NA|               NA|\n",
            "|1989|    1|        24|        2|   1255|      1230|   1612|      1552|           UA|      183|     NA|              317|           322|     NA|      20|      25|   SFO| HNL|    2398|    NA|     NA|        0|              NA|       0|          NA|          NA|      NA|           NA|               NA|\n",
            "|1989|    1|        25|        3|   1230|      1230|   1533|      1552|           UA|      183|     NA|              303|           322|     NA|     -19|       0|   SFO| HNL|    2398|    NA|     NA|        0|              NA|       0|          NA|          NA|      NA|           NA|               NA|\n",
            "|1989|    1|        26|        4|   1230|      1230|   1523|      1552|           UA|      183|     NA|              293|           322|     NA|     -29|       0|   SFO| HNL|    2398|    NA|     NA|        0|              NA|       0|          NA|          NA|      NA|           NA|               NA|\n",
            "|1989|    1|        27|        5|   1232|      1230|   1513|      1552|           UA|      183|     NA|              281|           322|     NA|     -39|       2|   SFO| HNL|    2398|    NA|     NA|        0|              NA|       0|          NA|          NA|      NA|           NA|               NA|\n",
            "|1989|    1|        28|        6|   1228|      1230|   1550|      1552|           UA|      183|     NA|              322|           322|     NA|      -2|      -2|   SFO| HNL|    2398|    NA|     NA|        0|              NA|       0|          NA|          NA|      NA|           NA|               NA|\n",
            "|1989|    1|        29|        7|   1639|      1230|   1942|      1552|           UA|      183|     NA|              303|           322|     NA|     230|     249|   SFO| HNL|    2398|    NA|     NA|        0|              NA|       0|          NA|          NA|      NA|           NA|               NA|\n",
            "|1989|    1|        30|        1|   1231|      1230|   1531|      1552|           UA|      183|     NA|              300|           322|     NA|     -21|       1|   SFO| HNL|    2398|    NA|     NA|        0|              NA|       0|          NA|          NA|      NA|           NA|               NA|\n",
            "|1989|    1|        31|        2|   1405|      1230|   1827|      1552|           UA|      183|     NA|              382|           322|     NA|     155|      95|   SFO| HNL|    2398|    NA|     NA|        0|              NA|       0|          NA|          NA|      NA|           NA|               NA|\n",
            "|1989|    1|         2|        1|   1057|      1045|   1537|      1554|           UA|      184|     NA|              160|           189|     NA|     -17|      12|   DEN| IAD|    1452|    NA|     NA|        0|              NA|       0|          NA|          NA|      NA|           NA|               NA|\n",
            "|1989|    1|         3|        2|   1117|      1045|   1607|      1554|           UA|      184|     NA|              170|           189|     NA|      13|      32|   DEN| IAD|    1452|    NA|     NA|        0|              NA|       0|          NA|          NA|      NA|           NA|               NA|\n",
            "|1989|    1|         4|        3|   1107|      1045|   1604|      1554|           UA|      184|     NA|              177|           189|     NA|      10|      22|   DEN| IAD|    1452|    NA|     NA|        0|              NA|       0|          NA|          NA|      NA|           NA|               NA|\n",
            "|1989|    1|         5|        4|   1119|      1045|   1612|      1554|           UA|      184|     NA|              173|           189|     NA|      18|      34|   DEN| IAD|    1452|    NA|     NA|        0|              NA|       0|          NA|          NA|      NA|           NA|               NA|\n",
            "|1989|    1|         6|        5|   1044|      1045|   1548|      1554|           UA|      184|     NA|              184|           189|     NA|      -6|      -1|   DEN| IAD|    1452|    NA|     NA|        0|              NA|       0|          NA|          NA|      NA|           NA|               NA|\n",
            "|1989|    1|         7|        6|   1100|      1045|   1559|      1554|           UA|      184|     NA|              179|           189|     NA|       5|      15|   DEN| IAD|    1452|    NA|     NA|        0|              NA|       0|          NA|          NA|      NA|           NA|               NA|\n",
            "|1989|    1|         8|        7|   1110|      1045|   1554|      1554|           UA|      184|     NA|              164|           189|     NA|       0|      25|   DEN| IAD|    1452|    NA|     NA|        0|              NA|       0|          NA|          NA|      NA|           NA|               NA|\n",
            "|1989|    1|         9|        1|   1044|      1045|   1535|      1554|           UA|      184|     NA|              171|           189|     NA|     -19|      -1|   DEN| IAD|    1452|    NA|     NA|        0|              NA|       0|          NA|          NA|      NA|           NA|               NA|\n",
            "|1989|    1|        10|        2|   1048|      1045|   1539|      1554|           UA|      184|     NA|              171|           189|     NA|     -15|       3|   DEN| IAD|    1452|    NA|     NA|        0|              NA|       0|          NA|          NA|      NA|           NA|               NA|\n",
            "|1989|    1|        11|        3|   1150|      1045|   1701|      1554|           UA|      184|     NA|              191|           189|     NA|      67|      65|   DEN| IAD|    1452|    NA|     NA|        0|              NA|       0|          NA|          NA|      NA|           NA|               NA|\n",
            "|1989|    1|        12|        4|   1048|      1045|   1549|      1554|           UA|      184|     NA|              181|           189|     NA|      -5|       3|   DEN| IAD|    1452|    NA|     NA|        0|              NA|       0|          NA|          NA|      NA|           NA|               NA|\n",
            "+----+-----+----------+---------+-------+----------+-------+----------+-------------+---------+-------+-----------------+--------------+-------+--------+--------+------+----+--------+------+-------+---------+----------------+--------+------------+------------+--------+-------------+-----------------+\n",
            "only showing top 20 rows\n",
            "\n"
          ]
        }
      ]
    },
    {
      "cell_type": "markdown",
      "source": [
        "# Questions :"
      ],
      "metadata": {
        "id": "0KHI4WETd_s1"
      }
    },
    {
      "cell_type": "markdown",
      "source": [
        "## Q1) Show a sample of 5 records from dataset."
      ],
      "metadata": {
        "id": "TeDLuFojeD0r"
      }
    },
    {
      "cell_type": "code",
      "source": [
        "sample_data = airline_data.limit(5) # getting the sample of airline_data by using \"limit\" function\n",
        "sample_data.show() # calling the Action"
      ],
      "metadata": {
        "colab": {
          "base_uri": "https://localhost:8080/"
        },
        "id": "pbRq7uBcfER0",
        "outputId": "a67d8e75-d3c4-475f-e052-77885fc40d76"
      },
      "execution_count": 26,
      "outputs": [
        {
          "output_type": "stream",
          "name": "stdout",
          "text": [
            "+----+-----+----------+---------+-------+----------+-------+----------+-------------+---------+-------+-----------------+--------------+-------+--------+--------+------+----+--------+------+-------+---------+----------------+--------+------------+------------+--------+-------------+-----------------+\n",
            "|Year|Month|DayofMonth|DayOfWeek|DepTime|CRSDepTime|ArrTime|CRSArrTime|UniqueCarrier|FlightNum|TailNum|ActualElapsedTime|CRSElapsedTime|AirTime|ArrDelay|DepDelay|Origin|Dest|Distance|TaxiIn|TaxiOut|Cancelled|CancellationCode|Diverted|CarrierDelay|WeatherDelay|NASDelay|SecurityDelay|LateAircraftDelay|\n",
            "+----+-----+----------+---------+-------+----------+-------+----------+-------------+---------+-------+-----------------+--------------+-------+--------+--------+------+----+--------+------+-------+---------+----------------+--------+------------+------------+--------+-------------+-----------------+\n",
            "|1989|    1|        23|        1|   1419|      1230|   1742|      1552|           UA|      183|     NA|              323|           322|     NA|     110|     109|   SFO| HNL|    2398|    NA|     NA|        0|              NA|       0|          NA|          NA|      NA|           NA|               NA|\n",
            "|1989|    1|        24|        2|   1255|      1230|   1612|      1552|           UA|      183|     NA|              317|           322|     NA|      20|      25|   SFO| HNL|    2398|    NA|     NA|        0|              NA|       0|          NA|          NA|      NA|           NA|               NA|\n",
            "|1989|    1|        25|        3|   1230|      1230|   1533|      1552|           UA|      183|     NA|              303|           322|     NA|     -19|       0|   SFO| HNL|    2398|    NA|     NA|        0|              NA|       0|          NA|          NA|      NA|           NA|               NA|\n",
            "|1989|    1|        26|        4|   1230|      1230|   1523|      1552|           UA|      183|     NA|              293|           322|     NA|     -29|       0|   SFO| HNL|    2398|    NA|     NA|        0|              NA|       0|          NA|          NA|      NA|           NA|               NA|\n",
            "|1989|    1|        27|        5|   1232|      1230|   1513|      1552|           UA|      183|     NA|              281|           322|     NA|     -39|       2|   SFO| HNL|    2398|    NA|     NA|        0|              NA|       0|          NA|          NA|      NA|           NA|               NA|\n",
            "+----+-----+----------+---------+-------+----------+-------+----------+-------------+---------+-------+-----------------+--------------+-------+--------+--------+------+----+--------+------+-------+---------+----------------+--------+------------+------------+--------+-------------+-----------------+\n",
            "\n"
          ]
        }
      ]
    },
    {
      "cell_type": "markdown",
      "source": [
        "## Explanation :\n",
        "  ###  As asked in the Question Displayed the sample of five records By using limit function. The limit function generally limits the No of rows to display."
      ],
      "metadata": {
        "id": "l-mTL3opgCkN"
      }
    },
    {
      "cell_type": "markdown",
      "source": [
        "## Q2) Read the data with data types."
      ],
      "metadata": {
        "id": "XHg8K3w6f7Jz"
      }
    },
    {
      "cell_type": "code",
      "source": [
        "# Reading the data types by using the function called printSchema\n",
        "data_types = airline_data.printSchema() \n",
        "data_types # calling the Action"
      ],
      "metadata": {
        "colab": {
          "base_uri": "https://localhost:8080/"
        },
        "id": "58GzMwCHgnIz",
        "outputId": "cc8f9daa-1117-42ff-81d6-5b24cd9043c9"
      },
      "execution_count": 5,
      "outputs": [
        {
          "output_type": "stream",
          "name": "stdout",
          "text": [
            "root\n",
            " |-- Year: integer (nullable = true)\n",
            " |-- Month: integer (nullable = true)\n",
            " |-- DayofMonth: integer (nullable = true)\n",
            " |-- DayOfWeek: integer (nullable = true)\n",
            " |-- DepTime: integer (nullable = true)\n",
            " |-- CRSDepTime: integer (nullable = true)\n",
            " |-- ArrTime: integer (nullable = true)\n",
            " |-- CRSArrTime: integer (nullable = true)\n",
            " |-- UniqueCarrier: string (nullable = true)\n",
            " |-- FlightNum: integer (nullable = true)\n",
            " |-- TailNum: string (nullable = true)\n",
            " |-- ActualElapsedTime: integer (nullable = true)\n",
            " |-- CRSElapsedTime: integer (nullable = true)\n",
            " |-- AirTime: string (nullable = true)\n",
            " |-- ArrDelay: integer (nullable = true)\n",
            " |-- DepDelay: integer (nullable = true)\n",
            " |-- Origin: string (nullable = true)\n",
            " |-- Dest: string (nullable = true)\n",
            " |-- Distance: integer (nullable = true)\n",
            " |-- TaxiIn: string (nullable = true)\n",
            " |-- TaxiOut: string (nullable = true)\n",
            " |-- Cancelled: integer (nullable = true)\n",
            " |-- CancellationCode: string (nullable = true)\n",
            " |-- Diverted: integer (nullable = true)\n",
            " |-- CarrierDelay: string (nullable = true)\n",
            " |-- WeatherDelay: string (nullable = true)\n",
            " |-- NASDelay: string (nullable = true)\n",
            " |-- SecurityDelay: string (nullable = true)\n",
            " |-- LateAircraftDelay: string (nullable = true)\n",
            "\n"
          ]
        }
      ]
    },
    {
      "cell_type": "markdown",
      "source": [
        "## Explanation :\n",
        "   ### There Two data types are present in the above data set those are 1) Integer, 2) String.\n",
        "\n",
        "## Integer columns are :\n",
        "### Year,Month,DayofMonth,DayofWeek,DepTime,CESDepTime,ArrTime,CESArrTime,FlightNumber,ActualElapsedTime,CRSelapsedTime,ArrDelay,DepDelay,Distance,Cancelled,Diverted.\n",
        "\n",
        "## String columns are :\n",
        "### UniqueCarrier,Tailnum,AirTime,Origin,Dest,TaxiIn,taxiOut,CancellationCode,WeatherDealy,NASDelay,SecurityDelay,LateAircraftDelay.\n",
        "\n"
      ],
      "metadata": {
        "id": "DKQoNSqAo6iZ"
      }
    },
    {
      "cell_type": "markdown",
      "source": [
        "# NOTE :\n",
        "### In the above Data set some integer columns are Reading as strings because of its Null values."
      ],
      "metadata": {
        "id": "sfXZdHloq4Bu"
      }
    },
    {
      "cell_type": "markdown",
      "source": [
        "## Q3) Make a new column MonthStr, Which has months in form of 01, 02, 03, ..., 12."
      ],
      "metadata": {
        "id": "qYsWUUjHhw8n"
      }
    },
    {
      "cell_type": "code",
      "source": [
        "# program for tne required condition \n",
        "def new_col(x):\n",
        "    if x == 1:\n",
        "      return '01'\n",
        "    elif x == 2:\n",
        "      return '02'\n",
        "    elif x == 3:\n",
        "      return'03'\n",
        "    elif x == 4:\n",
        "      return'04'\n",
        "    elif x == 5:\n",
        "      return'05'\n",
        "    elif x == 6:\n",
        "      return '06'\n",
        "    elif x == 7:\n",
        "      return '07'\n",
        "    elif x == 8:\n",
        "      return '08'\n",
        "    elif x == 9:\n",
        "      return '09'\n",
        "    else:\n",
        "      return x"
      ],
      "metadata": {
        "id": "fuUnXzEzh7v6"
      },
      "execution_count": 27,
      "outputs": []
    },
    {
      "cell_type": "code",
      "source": [
        "# importing udf & col to add a new colum with a condition to a PYSPARK DataFrame\n",
        "from pyspark.sql.functions import udf,col"
      ],
      "metadata": {
        "id": "Wr09rWvroS8x"
      },
      "execution_count": 28,
      "outputs": []
    },
    {
      "cell_type": "code",
      "source": [
        "a = udf(new_col) # creting UDF to apply  the above programed condition to the pyspark dataframe\n",
        "new_col = airline_data.withColumn(\"MonthStr\",a(col(\"Month\"))) # creating a new column with required condition\n",
        "new_col.show() # calling the Action"
      ],
      "metadata": {
        "colab": {
          "base_uri": "https://localhost:8080/"
        },
        "id": "fquPsH_RpCzJ",
        "outputId": "af66a956-07fa-45da-ffba-ac6f1ac85d73"
      },
      "execution_count": 29,
      "outputs": [
        {
          "output_type": "stream",
          "name": "stdout",
          "text": [
            "+----+-----+----------+---------+-------+----------+-------+----------+-------------+---------+-------+-----------------+--------------+-------+--------+--------+------+----+--------+------+-------+---------+----------------+--------+------------+------------+--------+-------------+-----------------+--------+\n",
            "|Year|Month|DayofMonth|DayOfWeek|DepTime|CRSDepTime|ArrTime|CRSArrTime|UniqueCarrier|FlightNum|TailNum|ActualElapsedTime|CRSElapsedTime|AirTime|ArrDelay|DepDelay|Origin|Dest|Distance|TaxiIn|TaxiOut|Cancelled|CancellationCode|Diverted|CarrierDelay|WeatherDelay|NASDelay|SecurityDelay|LateAircraftDelay|MonthStr|\n",
            "+----+-----+----------+---------+-------+----------+-------+----------+-------------+---------+-------+-----------------+--------------+-------+--------+--------+------+----+--------+------+-------+---------+----------------+--------+------------+------------+--------+-------------+-----------------+--------+\n",
            "|1989|    1|        23|        1|   1419|      1230|   1742|      1552|           UA|      183|     NA|              323|           322|     NA|     110|     109|   SFO| HNL|    2398|    NA|     NA|        0|              NA|       0|          NA|          NA|      NA|           NA|               NA|      01|\n",
            "|1989|    1|        24|        2|   1255|      1230|   1612|      1552|           UA|      183|     NA|              317|           322|     NA|      20|      25|   SFO| HNL|    2398|    NA|     NA|        0|              NA|       0|          NA|          NA|      NA|           NA|               NA|      01|\n",
            "|1989|    1|        25|        3|   1230|      1230|   1533|      1552|           UA|      183|     NA|              303|           322|     NA|     -19|       0|   SFO| HNL|    2398|    NA|     NA|        0|              NA|       0|          NA|          NA|      NA|           NA|               NA|      01|\n",
            "|1989|    1|        26|        4|   1230|      1230|   1523|      1552|           UA|      183|     NA|              293|           322|     NA|     -29|       0|   SFO| HNL|    2398|    NA|     NA|        0|              NA|       0|          NA|          NA|      NA|           NA|               NA|      01|\n",
            "|1989|    1|        27|        5|   1232|      1230|   1513|      1552|           UA|      183|     NA|              281|           322|     NA|     -39|       2|   SFO| HNL|    2398|    NA|     NA|        0|              NA|       0|          NA|          NA|      NA|           NA|               NA|      01|\n",
            "|1989|    1|        28|        6|   1228|      1230|   1550|      1552|           UA|      183|     NA|              322|           322|     NA|      -2|      -2|   SFO| HNL|    2398|    NA|     NA|        0|              NA|       0|          NA|          NA|      NA|           NA|               NA|      01|\n",
            "|1989|    1|        29|        7|   1639|      1230|   1942|      1552|           UA|      183|     NA|              303|           322|     NA|     230|     249|   SFO| HNL|    2398|    NA|     NA|        0|              NA|       0|          NA|          NA|      NA|           NA|               NA|      01|\n",
            "|1989|    1|        30|        1|   1231|      1230|   1531|      1552|           UA|      183|     NA|              300|           322|     NA|     -21|       1|   SFO| HNL|    2398|    NA|     NA|        0|              NA|       0|          NA|          NA|      NA|           NA|               NA|      01|\n",
            "|1989|    1|        31|        2|   1405|      1230|   1827|      1552|           UA|      183|     NA|              382|           322|     NA|     155|      95|   SFO| HNL|    2398|    NA|     NA|        0|              NA|       0|          NA|          NA|      NA|           NA|               NA|      01|\n",
            "|1989|    1|         2|        1|   1057|      1045|   1537|      1554|           UA|      184|     NA|              160|           189|     NA|     -17|      12|   DEN| IAD|    1452|    NA|     NA|        0|              NA|       0|          NA|          NA|      NA|           NA|               NA|      01|\n",
            "|1989|    1|         3|        2|   1117|      1045|   1607|      1554|           UA|      184|     NA|              170|           189|     NA|      13|      32|   DEN| IAD|    1452|    NA|     NA|        0|              NA|       0|          NA|          NA|      NA|           NA|               NA|      01|\n",
            "|1989|    1|         4|        3|   1107|      1045|   1604|      1554|           UA|      184|     NA|              177|           189|     NA|      10|      22|   DEN| IAD|    1452|    NA|     NA|        0|              NA|       0|          NA|          NA|      NA|           NA|               NA|      01|\n",
            "|1989|    1|         5|        4|   1119|      1045|   1612|      1554|           UA|      184|     NA|              173|           189|     NA|      18|      34|   DEN| IAD|    1452|    NA|     NA|        0|              NA|       0|          NA|          NA|      NA|           NA|               NA|      01|\n",
            "|1989|    1|         6|        5|   1044|      1045|   1548|      1554|           UA|      184|     NA|              184|           189|     NA|      -6|      -1|   DEN| IAD|    1452|    NA|     NA|        0|              NA|       0|          NA|          NA|      NA|           NA|               NA|      01|\n",
            "|1989|    1|         7|        6|   1100|      1045|   1559|      1554|           UA|      184|     NA|              179|           189|     NA|       5|      15|   DEN| IAD|    1452|    NA|     NA|        0|              NA|       0|          NA|          NA|      NA|           NA|               NA|      01|\n",
            "|1989|    1|         8|        7|   1110|      1045|   1554|      1554|           UA|      184|     NA|              164|           189|     NA|       0|      25|   DEN| IAD|    1452|    NA|     NA|        0|              NA|       0|          NA|          NA|      NA|           NA|               NA|      01|\n",
            "|1989|    1|         9|        1|   1044|      1045|   1535|      1554|           UA|      184|     NA|              171|           189|     NA|     -19|      -1|   DEN| IAD|    1452|    NA|     NA|        0|              NA|       0|          NA|          NA|      NA|           NA|               NA|      01|\n",
            "|1989|    1|        10|        2|   1048|      1045|   1539|      1554|           UA|      184|     NA|              171|           189|     NA|     -15|       3|   DEN| IAD|    1452|    NA|     NA|        0|              NA|       0|          NA|          NA|      NA|           NA|               NA|      01|\n",
            "|1989|    1|        11|        3|   1150|      1045|   1701|      1554|           UA|      184|     NA|              191|           189|     NA|      67|      65|   DEN| IAD|    1452|    NA|     NA|        0|              NA|       0|          NA|          NA|      NA|           NA|               NA|      01|\n",
            "|1989|    1|        12|        4|   1048|      1045|   1549|      1554|           UA|      184|     NA|              181|           189|     NA|      -5|       3|   DEN| IAD|    1452|    NA|     NA|        0|              NA|       0|          NA|          NA|      NA|           NA|               NA|      01|\n",
            "+----+-----+----------+---------+-------+----------+-------+----------+-------------+---------+-------+-----------------+--------------+-------+--------+--------+------+----+--------+------+-------+---------+----------------+--------+------------+------------+--------+-------------+-----------------+--------+\n",
            "only showing top 20 rows\n",
            "\n"
          ]
        }
      ]
    },
    {
      "cell_type": "code",
      "source": [
        "# Checking whether the required condition was applied to new column or not \n",
        "check = new_col.select(\"Month\",\"MonthStr\")\n",
        "check.show(5) # calling the Action"
      ],
      "metadata": {
        "colab": {
          "base_uri": "https://localhost:8080/"
        },
        "id": "YR_wNP0DtZxu",
        "outputId": "e405105b-d164-4551-8a49-7861f96df4b7"
      },
      "execution_count": 30,
      "outputs": [
        {
          "output_type": "stream",
          "name": "stdout",
          "text": [
            "+-----+--------+\n",
            "|Month|MonthStr|\n",
            "+-----+--------+\n",
            "|    1|      01|\n",
            "|    1|      01|\n",
            "|    1|      01|\n",
            "|    1|      01|\n",
            "|    1|      01|\n",
            "+-----+--------+\n",
            "only showing top 5 rows\n",
            "\n"
          ]
        }
      ]
    },
    {
      "cell_type": "markdown",
      "source": [
        "## Explanation :\n",
        "  ### Here we can clearly see that in the month column the data was chaged as per the requirement.Here all the values in the newly created column was \"01\" only because in the original Month column all the values are \"1\" only."
      ],
      "metadata": {
        "id": "YPEiGIYlt3P1"
      }
    },
    {
      "cell_type": "markdown",
      "source": [
        "## Q4) Find the number of flights each airline made."
      ],
      "metadata": {
        "id": "iGSg5cVVuuL5"
      }
    },
    {
      "cell_type": "code",
      "source": [
        "airline_data.createOrReplaceTempView(\"airline\") # creating a view to write an SQL\n",
        "Numner_of_flights = spark.sql(\"select count(UniqueCarrier) from airline \") # counting No of flights each airline made\n",
        "Numner_of_flights.show() # calling the Action"
      ],
      "metadata": {
        "colab": {
          "base_uri": "https://localhost:8080/"
        },
        "id": "iRRq1271u5Mr",
        "outputId": "953c1b32-a5d7-4d30-8215-5009ef071958"
      },
      "execution_count": 31,
      "outputs": [
        {
          "output_type": "stream",
          "name": "stdout",
          "text": [
            "+--------------------+\n",
            "|count(UniqueCarrier)|\n",
            "+--------------------+\n",
            "|                 426|\n",
            "+--------------------+\n",
            "\n"
          ]
        }
      ]
    },
    {
      "cell_type": "markdown",
      "source": [
        "## Explanation :\n",
        " ### The above result clearly showing that the number of flights that each airline made is 426"
      ],
      "metadata": {
        "id": "DxhnRbPvy-z7"
      }
    },
    {
      "cell_type": "markdown",
      "source": [
        "## Q5) Find the mean Arrival Delay per origination airport."
      ],
      "metadata": {
        "id": "6pQBddOFzQGu"
      }
    },
    {
      "cell_type": "code",
      "source": [
        "# Grouping and averaging the Required columns as per the Question\n",
        "mean_arr_delay_per_org = airline_data.groupBy(\"Origin\").avg(\"ArrDelay\")\n",
        "mean_arr_delay_per_org.show() # Calling the Action"
      ],
      "metadata": {
        "colab": {
          "base_uri": "https://localhost:8080/"
        },
        "id": "l1g0ziZk0syc",
        "outputId": "7f7de727-c7f9-4dc9-a2bf-26f6069ebdd4"
      },
      "execution_count": 32,
      "outputs": [
        {
          "output_type": "stream",
          "name": "stdout",
          "text": [
            "+------+-------------------+\n",
            "|Origin|      avg(ArrDelay)|\n",
            "+------+-------------------+\n",
            "|   LIH|0.16666666666666666|\n",
            "|   HNL|  14.21774193548387|\n",
            "|   EWR|               9.25|\n",
            "|   DEN| 20.166666666666668|\n",
            "|   IAD| 12.966666666666667|\n",
            "|   SFO| 11.215384615384615|\n",
            "|   PHL|  6.827586206896552|\n",
            "|   OGG|  16.24137931034483|\n",
            "+------+-------------------+\n",
            "\n"
          ]
        }
      ]
    },
    {
      "cell_type": "markdown",
      "source": [
        "## Explanation :\n",
        "### The above result clearly showing the details of average number of Arrival Delays of flights in each Origin.\n",
        "\n",
        "### By above result we can say that Origin \"DEN\" has most  Number of Arrival Delays with average arrival delay of (20.166666666666668) where as Origin \"LIH\" has less number of Arrival Delays with average arrival delay of (0.16666666666666666)."
      ],
      "metadata": {
        "id": "N_hghT1S50sZ"
      }
    },
    {
      "cell_type": "markdown",
      "source": [
        "## Q6)  What is the average departure delay from each airport."
      ],
      "metadata": {
        "id": "RxzTA2zs6rqd"
      }
    },
    {
      "cell_type": "code",
      "source": [
        "# Grouping and averaging the Required columns as per the Question\n",
        "avg_dep_delay_per_airport = airline_data.groupBy(\"Origin\").avg(\"DepDelay\")\n",
        "avg_dep_delay_per_airport.show() # Calling the Action"
      ],
      "metadata": {
        "colab": {
          "base_uri": "https://localhost:8080/"
        },
        "id": "D5fPIevF7tZk",
        "outputId": "9290e2ca-c0b9-469d-a0b7-bc05cc5049a3"
      },
      "execution_count": 33,
      "outputs": [
        {
          "output_type": "stream",
          "name": "stdout",
          "text": [
            "+------+-------------------+\n",
            "|Origin|      avg(DepDelay)|\n",
            "+------+-------------------+\n",
            "|   LIH|-3.7666666666666666|\n",
            "|   HNL|  3.217741935483871|\n",
            "|   EWR|  4.958333333333333|\n",
            "|   DEN|               27.6|\n",
            "|   IAD|                8.9|\n",
            "|   SFO| 19.646153846153847|\n",
            "|   PHL| 16.137931034482758|\n",
            "|   OGG|                6.0|\n",
            "+------+-------------------+\n",
            "\n"
          ]
        }
      ]
    },
    {
      "cell_type": "markdown",
      "source": [
        "## Explanation :\n",
        "### The above result clearly showing the details of average number of Depature Delays of flights in each Origin.\n",
        "\n",
        "### By above result we can say that Origin \"DEN\" has most  Number of Depature Delays with average arrival delay of (27.6) where as Origin \"LIH\" has less number of Depature Delays with average Depature delay of (-3.7666666666666666)."
      ],
      "metadata": {
        "id": "R66llYGU8-Po"
      }
    }
  ]
}